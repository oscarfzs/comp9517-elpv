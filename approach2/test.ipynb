{
 "cells": [
  {
   "cell_type": "code",
   "execution_count": 15,
   "metadata": {},
   "outputs": [
    {
     "name": "stdout",
     "output_type": "stream",
     "text": [
      "Requirement already satisfied: seaborn in /Library/Frameworks/Python.framework/Versions/3.12/lib/python3.12/site-packages (0.13.0)\n",
      "Requirement already satisfied: numpy!=1.24.0,>=1.20 in /Library/Frameworks/Python.framework/Versions/3.12/lib/python3.12/site-packages (from seaborn) (1.26.1)\n",
      "Requirement already satisfied: pandas>=1.2 in /Library/Frameworks/Python.framework/Versions/3.12/lib/python3.12/site-packages (from seaborn) (2.1.3)\n",
      "Requirement already satisfied: matplotlib!=3.6.1,>=3.3 in /Library/Frameworks/Python.framework/Versions/3.12/lib/python3.12/site-packages (from seaborn) (3.8.0)\n",
      "Requirement already satisfied: contourpy>=1.0.1 in /Library/Frameworks/Python.framework/Versions/3.12/lib/python3.12/site-packages (from matplotlib!=3.6.1,>=3.3->seaborn) (1.1.1)\n",
      "Requirement already satisfied: cycler>=0.10 in /Library/Frameworks/Python.framework/Versions/3.12/lib/python3.12/site-packages (from matplotlib!=3.6.1,>=3.3->seaborn) (0.12.1)\n",
      "Requirement already satisfied: fonttools>=4.22.0 in /Library/Frameworks/Python.framework/Versions/3.12/lib/python3.12/site-packages (from matplotlib!=3.6.1,>=3.3->seaborn) (4.43.1)\n",
      "Requirement already satisfied: kiwisolver>=1.0.1 in /Library/Frameworks/Python.framework/Versions/3.12/lib/python3.12/site-packages (from matplotlib!=3.6.1,>=3.3->seaborn) (1.4.5)\n",
      "Requirement already satisfied: packaging>=20.0 in /Library/Frameworks/Python.framework/Versions/3.12/lib/python3.12/site-packages (from matplotlib!=3.6.1,>=3.3->seaborn) (23.2)\n",
      "Requirement already satisfied: pillow>=6.2.0 in /Library/Frameworks/Python.framework/Versions/3.12/lib/python3.12/site-packages (from matplotlib!=3.6.1,>=3.3->seaborn) (10.1.0)\n",
      "Requirement already satisfied: pyparsing>=2.3.1 in /Library/Frameworks/Python.framework/Versions/3.12/lib/python3.12/site-packages (from matplotlib!=3.6.1,>=3.3->seaborn) (3.1.1)\n",
      "Requirement already satisfied: python-dateutil>=2.7 in /Library/Frameworks/Python.framework/Versions/3.12/lib/python3.12/site-packages (from matplotlib!=3.6.1,>=3.3->seaborn) (2.8.2)\n",
      "Requirement already satisfied: pytz>=2020.1 in /Library/Frameworks/Python.framework/Versions/3.12/lib/python3.12/site-packages (from pandas>=1.2->seaborn) (2023.3.post1)\n",
      "Requirement already satisfied: tzdata>=2022.1 in /Library/Frameworks/Python.framework/Versions/3.12/lib/python3.12/site-packages (from pandas>=1.2->seaborn) (2023.3)\n",
      "Requirement already satisfied: six>=1.5 in /Library/Frameworks/Python.framework/Versions/3.12/lib/python3.12/site-packages (from python-dateutil>=2.7->matplotlib!=3.6.1,>=3.3->seaborn) (1.16.0)\n",
      "Note: you may need to restart the kernel to use updated packages.\n"
     ]
    }
   ],
   "source": [
    "%pip install seaborn\n",
    "\n",
    "from PIL import Image\n",
    "import numpy as np\n",
    "import os\n",
    "import seaborn as sns\n",
    "import matplotlib.pyplot as plt\n",
    "from sklearn.model_selection import train_test_split, GridSearchCV\n",
    "from sklearn.preprocessing import StandardScaler, LabelEncoder\n",
    "from sklearn.decomposition import PCA\n",
    "from sklearn.pipeline import Pipeline\n",
    "from sklearn.ensemble import RandomForestClassifier\n",
    "from sklearn.metrics import accuracy_score, classification_report, confusion_matrix"
   ]
  },
  {
   "cell_type": "code",
   "execution_count": 16,
   "metadata": {},
   "outputs": [],
   "source": [
    "def load_dataset(fname=None, new_size=(32, 32)):\n",
    "    if fname is None:\n",
    "        base_dir = os.getcwd()\n",
    "        fname = os.path.join(base_dir, '../elpv-dataset/labels.csv')\n",
    "\n",
    "    data = np.genfromtxt(fname, dtype=[('path', 'S19'), ('probability', 'f8'), ('type', 'S4')], names=['path', 'probability', 'type'])\n",
    "    image_fnames = np.char.decode(data['path'])\n",
    "    probs = data['probability']\n",
    "    types = np.char.decode(data['type'])\n",
    "\n",
    "    def load_cell_image(fname):\n",
    "        with Image.open(fname) as image:\n",
    "            image = image.convert('L')\n",
    "            image = image.resize(new_size, Image.Resampling.LANCZOS)\n",
    "            return np.asarray(image)\n",
    "\n",
    "    dir = os.path.dirname(fname)\n",
    "    images = np.array([load_cell_image(os.path.join(dir, fn)) for fn in image_fnames])\n",
    "\n",
    "    return images, probs, types\n",
    "\n",
    "images, proba, types = load_dataset(new_size=(32, 32))"
   ]
  },
  {
   "cell_type": "code",
   "execution_count": 17,
   "metadata": {},
   "outputs": [],
   "source": [
    "# 将类型编码为数字\n",
    "type_encoder = LabelEncoder()\n",
    "types_encoded = type_encoder.fit_transform(types)\n",
    "\n",
    "# 将概率值转换为分类\n",
    "proba_classes = np.array([0 if p == 0 else 1 if p == 0.3333333333333333 else 2 if p == 0.6666666666666666 else 3 for p in proba])\n",
    "\n",
    "# Flatten the images for ML algorithms\n",
    "X = images.reshape((images.shape[0], -1))\n",
    "y = proba_classes  # 使用分类后的概率值\n",
    "\n"
   ]
  },
  {
   "cell_type": "code",
   "execution_count": 18,
   "metadata": {},
   "outputs": [],
   "source": [
    "# Split the data\n",
    "X_train, X_test, y_train, y_test, types_train, types_test = train_test_split(X, y, types_encoded, test_size=0.25, random_state=42)\n",
    "\n",
    "# Filter out 'mono' and 'poly' samples for separate processing\n",
    "# 假设 'mono' 编码为 0，'poly' 编码为 1\n",
    "X_train_mono = X_train[types_train == 0]\n",
    "y_train_mono = y_train[types_train == 0]\n",
    "X_test_mono = X_test[types_test == 0]\n",
    "y_test_mono = y_test[types_test == 0]\n",
    "\n",
    "X_train_poly = X_train[types_train == 1]\n",
    "y_train_poly = y_train[types_train == 1]\n",
    "X_test_poly = X_test[types_test == 1]\n",
    "y_test_poly = y_test[types_test == 1]"
   ]
  },
  {
   "cell_type": "code",
   "execution_count": 19,
   "metadata": {},
   "outputs": [
    {
     "name": "stdout",
     "output_type": "stream",
     "text": [
      "Classification Report for Mono:\n",
      "              precision    recall  f1-score   support\n",
      "\n",
      "           0       0.73      0.88      0.80       147\n",
      "           1       0.56      0.19      0.29        26\n",
      "           2       0.00      0.00      0.00        18\n",
      "           3       0.75      0.78      0.77        82\n",
      "\n",
      "    accuracy                           0.73       273\n",
      "   macro avg       0.51      0.46      0.46       273\n",
      "weighted avg       0.67      0.73      0.69       273\n",
      "\n",
      "Confusion Matrix for Mono:\n",
      "[[130   2   0  15]\n",
      " [ 17   5   0   4]\n",
      " [ 16   0   0   2]\n",
      " [ 16   2   0  64]]\n",
      "Accuracy for Mono: 72.89%\n",
      "\n",
      "Classification Report for Poly:\n",
      "              precision    recall  f1-score   support\n",
      "\n",
      "           0       0.71      0.96      0.81       225\n",
      "           1       0.85      0.23      0.37        47\n",
      "           2       0.00      0.00      0.00        13\n",
      "           3       0.77      0.52      0.62        98\n",
      "\n",
      "    accuracy                           0.72       383\n",
      "   macro avg       0.58      0.43      0.45       383\n",
      "weighted avg       0.72      0.72      0.68       383\n",
      "\n",
      "Confusion Matrix for Poly:\n",
      "[[215   1   0   9]\n",
      " [ 35  11   0   1]\n",
      " [  8   0   0   5]\n",
      " [ 46   1   0  51]]\n",
      "Accuracy for Poly: 72.32%\n"
     ]
    },
    {
     "name": "stderr",
     "output_type": "stream",
     "text": [
      "/Library/Frameworks/Python.framework/Versions/3.12/lib/python3.12/site-packages/sklearn/metrics/_classification.py:1471: UndefinedMetricWarning: Precision and F-score are ill-defined and being set to 0.0 in labels with no predicted samples. Use `zero_division` parameter to control this behavior.\n",
      "  _warn_prf(average, modifier, msg_start, len(result))\n",
      "/Library/Frameworks/Python.framework/Versions/3.12/lib/python3.12/site-packages/sklearn/metrics/_classification.py:1471: UndefinedMetricWarning: Precision and F-score are ill-defined and being set to 0.0 in labels with no predicted samples. Use `zero_division` parameter to control this behavior.\n",
      "  _warn_prf(average, modifier, msg_start, len(result))\n",
      "/Library/Frameworks/Python.framework/Versions/3.12/lib/python3.12/site-packages/sklearn/metrics/_classification.py:1471: UndefinedMetricWarning: Precision and F-score are ill-defined and being set to 0.0 in labels with no predicted samples. Use `zero_division` parameter to control this behavior.\n",
      "  _warn_prf(average, modifier, msg_start, len(result))\n",
      "/Library/Frameworks/Python.framework/Versions/3.12/lib/python3.12/site-packages/sklearn/metrics/_classification.py:1471: UndefinedMetricWarning: Precision and F-score are ill-defined and being set to 0.0 in labels with no predicted samples. Use `zero_division` parameter to control this behavior.\n",
      "  _warn_prf(average, modifier, msg_start, len(result))\n",
      "/Library/Frameworks/Python.framework/Versions/3.12/lib/python3.12/site-packages/sklearn/metrics/_classification.py:1471: UndefinedMetricWarning: Precision and F-score are ill-defined and being set to 0.0 in labels with no predicted samples. Use `zero_division` parameter to control this behavior.\n",
      "  _warn_prf(average, modifier, msg_start, len(result))\n",
      "/Library/Frameworks/Python.framework/Versions/3.12/lib/python3.12/site-packages/sklearn/metrics/_classification.py:1471: UndefinedMetricWarning: Precision and F-score are ill-defined and being set to 0.0 in labels with no predicted samples. Use `zero_division` parameter to control this behavior.\n",
      "  _warn_prf(average, modifier, msg_start, len(result))\n"
     ]
    }
   ],
   "source": [
    "# Create and train a pipeline for 'mono' samples\n",
    "pipe_mono = Pipeline([\n",
    "    ('scaler', StandardScaler()),\n",
    "    ('pca', PCA(n_components=50)),\n",
    "    ('classifier', RandomForestClassifier(random_state=42))\n",
    "])\n",
    "pipe_mono.fit(X_train_mono, y_train_mono)\n",
    "\n",
    "# Predictions and evaluation for 'mono'\n",
    "y_pred_mono = pipe_mono.predict(X_test_mono)\n",
    "\n",
    "# Create and train a pipeline for 'poly' samples\n",
    "pipe_poly = Pipeline([\n",
    "    ('scaler', StandardScaler()),\n",
    "    ('pca', PCA(n_components=50)),\n",
    "    ('classifier', RandomForestClassifier(random_state=42))\n",
    "])\n",
    "pipe_poly.fit(X_train_poly, y_train_poly)\n",
    "\n",
    "# Predictions and evaluation for 'poly'\n",
    "y_pred_poly = pipe_poly.predict(X_test_poly)\n",
    "\n",
    "print(\"Classification Report for Mono:\")\n",
    "print(classification_report(y_test_mono, y_pred_mono))\n",
    "print(\"Confusion Matrix for Mono:\")\n",
    "print(confusion_matrix(y_test_mono, y_pred_mono))\n",
    "print(\"Accuracy for Mono: {:.2f}%\".format(100 * accuracy_score(y_test_mono, y_pred_mono)))\n",
    "\n",
    "\n",
    "print(\"\\nClassification Report for Poly:\")\n",
    "print(classification_report(y_test_poly, y_pred_poly))\n",
    "print(\"Confusion Matrix for Poly:\")\n",
    "print(confusion_matrix(y_test_poly, y_pred_poly))\n",
    "print(\"Accuracy for Poly: {:.2f}%\".format(100 * accuracy_score(y_test_poly, y_pred_poly)))"
   ]
  }
 ],
 "metadata": {
  "kernelspec": {
   "display_name": "Python 3",
   "language": "python",
   "name": "python3"
  },
  "language_info": {
   "codemirror_mode": {
    "name": "ipython",
    "version": 3
   },
   "file_extension": ".py",
   "mimetype": "text/x-python",
   "name": "python",
   "nbconvert_exporter": "python",
   "pygments_lexer": "ipython3",
   "version": "3.12.0"
  }
 },
 "nbformat": 4,
 "nbformat_minor": 2
}
