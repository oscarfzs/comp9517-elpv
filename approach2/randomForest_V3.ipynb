{
 "cells": [
  {
   "cell_type": "code",
   "execution_count": 18,
   "metadata": {
    "ExecuteTime": {
     "end_time": "2023-11-15T16:54:34.691308Z",
     "start_time": "2023-11-15T16:54:33.082990Z"
    }
   },
   "outputs": [
    {
     "name": "stdout",
     "output_type": "stream",
     "text": [
      "Requirement already satisfied: seaborn in /Library/Frameworks/Python.framework/Versions/3.12/lib/python3.12/site-packages (0.13.0)\n",
      "Requirement already satisfied: numpy!=1.24.0,>=1.20 in /Library/Frameworks/Python.framework/Versions/3.12/lib/python3.12/site-packages (from seaborn) (1.26.1)\n",
      "Requirement already satisfied: pandas>=1.2 in /Library/Frameworks/Python.framework/Versions/3.12/lib/python3.12/site-packages (from seaborn) (2.1.3)\n",
      "Requirement already satisfied: matplotlib!=3.6.1,>=3.3 in /Library/Frameworks/Python.framework/Versions/3.12/lib/python3.12/site-packages (from seaborn) (3.8.0)\n",
      "Requirement already satisfied: contourpy>=1.0.1 in /Library/Frameworks/Python.framework/Versions/3.12/lib/python3.12/site-packages (from matplotlib!=3.6.1,>=3.3->seaborn) (1.1.1)\n",
      "Requirement already satisfied: cycler>=0.10 in /Library/Frameworks/Python.framework/Versions/3.12/lib/python3.12/site-packages (from matplotlib!=3.6.1,>=3.3->seaborn) (0.12.1)\n",
      "Requirement already satisfied: fonttools>=4.22.0 in /Library/Frameworks/Python.framework/Versions/3.12/lib/python3.12/site-packages (from matplotlib!=3.6.1,>=3.3->seaborn) (4.43.1)\n",
      "Requirement already satisfied: kiwisolver>=1.0.1 in /Library/Frameworks/Python.framework/Versions/3.12/lib/python3.12/site-packages (from matplotlib!=3.6.1,>=3.3->seaborn) (1.4.5)\n",
      "Requirement already satisfied: packaging>=20.0 in /Library/Frameworks/Python.framework/Versions/3.12/lib/python3.12/site-packages (from matplotlib!=3.6.1,>=3.3->seaborn) (23.2)\n",
      "Requirement already satisfied: pillow>=6.2.0 in /Library/Frameworks/Python.framework/Versions/3.12/lib/python3.12/site-packages (from matplotlib!=3.6.1,>=3.3->seaborn) (10.1.0)\n",
      "Requirement already satisfied: pyparsing>=2.3.1 in /Library/Frameworks/Python.framework/Versions/3.12/lib/python3.12/site-packages (from matplotlib!=3.6.1,>=3.3->seaborn) (3.1.1)\n",
      "Requirement already satisfied: python-dateutil>=2.7 in /Library/Frameworks/Python.framework/Versions/3.12/lib/python3.12/site-packages (from matplotlib!=3.6.1,>=3.3->seaborn) (2.8.2)\n",
      "Requirement already satisfied: pytz>=2020.1 in /Library/Frameworks/Python.framework/Versions/3.12/lib/python3.12/site-packages (from pandas>=1.2->seaborn) (2023.3.post1)\n",
      "Requirement already satisfied: tzdata>=2022.1 in /Library/Frameworks/Python.framework/Versions/3.12/lib/python3.12/site-packages (from pandas>=1.2->seaborn) (2023.3)\n",
      "Requirement already satisfied: six>=1.5 in /Library/Frameworks/Python.framework/Versions/3.12/lib/python3.12/site-packages (from python-dateutil>=2.7->matplotlib!=3.6.1,>=3.3->seaborn) (1.16.0)\n",
      "Note: you may need to restart the kernel to use updated packages.\n"
     ]
    }
   ],
   "source": [
    "%pip install seaborn\n",
    "\n",
    "from PIL import Image\n",
    "import numpy as np\n",
    "import os\n",
    "import seaborn as sns\n",
    "import matplotlib.pyplot as plt\n",
    "import pandas as pd\n",
    "from sklearn.metrics import accuracy_score\n",
    "from sklearn.model_selection import train_test_split, GridSearchCV\n",
    "from sklearn.preprocessing import StandardScaler, LabelEncoder\n",
    "from sklearn.preprocessing import StandardScaler\n",
    "from sklearn.decomposition import PCA\n",
    "from sklearn.pipeline import Pipeline\n",
    "from sklearn.ensemble import RandomForestClassifier\n",
    "from sklearn.svm import SVC\n",
    "from sklearn.metrics import classification_report, confusion_matrix"
   ]
  },
  {
   "cell_type": "markdown",
   "metadata": {
    "collapsed": false
   },
   "source": []
  },
  {
   "cell_type": "code",
   "execution_count": 19,
   "metadata": {
    "ExecuteTime": {
     "end_time": "2023-11-15T16:55:05.012094Z",
     "start_time": "2023-11-15T16:54:34.705271Z"
    },
    "collapsed": false
   },
   "outputs": [],
   "source": [
    "def load_dataset(fname=None, new_size=(10, 10)):\n",
    "    if fname is None:\n",
    "        base_dir = os.getcwd()\n",
    "        fname = os.path.join(base_dir, '../elpv-dataset/labels.csv')\n",
    "\n",
    "    data = np.genfromtxt(fname, dtype=['|S19', '<f8', '|S4'], names=[\n",
    "                         'path', 'probability', 'type'])\n",
    "    image_fnames = np.char.decode(data['path'])\n",
    "    probs = data['probability']\n",
    "    types = np.char.decode(data['type'])\n",
    "\n",
    "    def load_cell_image(fname):\n",
    "        with Image.open(fname) as image:\n",
    "            image = image.convert('L')  # Convert to grayscale\n",
    "            image = image.resize(new_size, Image.Resampling.LANCZOS)  # Resize the image\n",
    "            return np.asarray(image)\n",
    "\n",
    "    dir = os.path.dirname(fname)\n",
    "\n",
    "    images = np.array([load_cell_image(os.path.join(dir, fn))\n",
    "                       for fn in image_fnames])\n",
    "\n",
    "\n",
    "    return images, probs, types\n",
    "\n",
    "images, proba, types = load_dataset(new_size=(10, 10))\n"
   ]
  },
  {
   "cell_type": "code",
   "execution_count": 20,
   "metadata": {
    "ExecuteTime": {
     "end_time": "2023-11-15T16:55:05.021791Z",
     "start_time": "2023-11-15T16:55:05.012094Z"
    },
    "collapsed": false
   },
   "outputs": [],
   "source": [
    "\n",
    "X = images.reshape((images.shape[0], -1))\n",
    "\n",
    "mapping = {0.0: 0,1.0: 1, 0.3333333333333333: 2, 0.6666666666666666: 3}\n",
    "res = [mapping[x] for x in proba]\n",
    "arr=np.array(res)\n",
    "y= arr.astype(int)"
   ]
  },
  {
   "cell_type": "code",
   "execution_count": 21,
   "metadata": {
    "ExecuteTime": {
     "end_time": "2023-11-15T16:55:05.531939Z",
     "start_time": "2023-11-15T16:55:05.028773Z"
    },
    "collapsed": false
   },
   "outputs": [],
   "source": [
    "\n",
    "type_encoder = LabelEncoder()\n",
    "types_encoded = type_encoder.fit_transform(types)\n",
    "# Split the data\n",
    "X_train, X_test, y_train, y_test, types_train, types_test = train_test_split(X, y, types_encoded, test_size=0.25,\n",
    "                                                                             random_state=42)\n",
    "# Filter out 'mono' and 'poly' samples for separate processing\n",
    "X_train_mono = X_train[types_train == 0]\n",
    "y_train_mono = y_train[types_train == 0]\n",
    "X_test_mono = X_test[types_test == 0]\n",
    "y_test_mono = y_test[types_test == 0]\n",
    "\n",
    "X_train_poly = X_train[types_train == 1]\n",
    "y_train_poly = y_train[types_train == 1]\n",
    "X_test_poly = X_test[types_test == 1]\n",
    "y_test_poly = y_test[types_test == 1]"
   ]
  },
  {
   "cell_type": "code",
   "execution_count": 22,
   "metadata": {
    "ExecuteTime": {
     "end_time": "2023-11-15T16:55:09.999454Z",
     "start_time": "2023-11-15T16:55:05.047722Z"
    },
    "collapsed": false
   },
   "outputs": [],
   "source": [
    "pipe = Pipeline([\n",
    "    ('scaler', StandardScaler()),\n",
    "    ('pca', PCA(n_components=150)),  # Adjust the number of components\n",
    "    ('classifier', RandomForestClassifier(random_state=42))\n",
    "])\n",
    "\n",
    "param_grid = {\n",
    "    'pca__n_components': [50, 100, 150],\n",
    "    'classifier__n_estimators': [50, 100, 200],\n",
    "    'classifier__max_depth': [5, 10, None]\n",
    "}\n",
    "\n",
    "pipe_mono = Pipeline([\n",
    "    ('scaler', StandardScaler()),\n",
    "    ('pca', PCA(n_components=100)),\n",
    "    ('classifier', RandomForestClassifier(random_state=42))\n",
    "])\n",
    "pipe_mono.fit(X_train_mono, y_train_mono)\n",
    "\n",
    "y_pred_mono = pipe_mono.predict(X_test_mono)\n",
    "\n",
    "pipe_poly = Pipeline([\n",
    "    ('scaler', StandardScaler()),\n",
    "    ('pca', PCA(n_components=100)),\n",
    "    ('classifier', RandomForestClassifier(random_state=42))\n",
    "])\n",
    "pipe_poly.fit(X_train_poly, y_train_poly)\n",
    "\n",
    "y_pred_poly = pipe_poly.predict(X_test_poly)\n"
   ]
  },
  {
   "cell_type": "code",
   "execution_count": 23,
   "metadata": {
    "ExecuteTime": {
     "end_time": "2023-11-15T16:59:19.350445Z",
     "start_time": "2023-11-15T16:55:10.003444Z"
    },
    "collapsed": false
   },
   "outputs": [
    {
     "name": "stderr",
     "output_type": "stream",
     "text": [
      "/Library/Frameworks/Python.framework/Versions/3.12/lib/python3.12/site-packages/sklearn/model_selection/_validation.py:425: FitFailedWarning: \n",
      "45 fits failed out of a total of 135.\n",
      "The score on these train-test partitions for these parameters will be set to nan.\n",
      "If these failures are not expected, you can try to debug them by setting error_score='raise'.\n",
      "\n",
      "Below are more details about the failures:\n",
      "--------------------------------------------------------------------------------\n",
      "45 fits failed with the following error:\n",
      "Traceback (most recent call last):\n",
      "  File \"/Library/Frameworks/Python.framework/Versions/3.12/lib/python3.12/site-packages/sklearn/model_selection/_validation.py\", line 729, in _fit_and_score\n",
      "    estimator.fit(X_train, y_train, **fit_params)\n",
      "  File \"/Library/Frameworks/Python.framework/Versions/3.12/lib/python3.12/site-packages/sklearn/base.py\", line 1152, in wrapper\n",
      "    return fit_method(estimator, *args, **kwargs)\n",
      "           ^^^^^^^^^^^^^^^^^^^^^^^^^^^^^^^^^^^^^^\n",
      "  File \"/Library/Frameworks/Python.framework/Versions/3.12/lib/python3.12/site-packages/sklearn/pipeline.py\", line 423, in fit\n",
      "    Xt = self._fit(X, y, **fit_params_steps)\n",
      "         ^^^^^^^^^^^^^^^^^^^^^^^^^^^^^^^^^^^\n",
      "  File \"/Library/Frameworks/Python.framework/Versions/3.12/lib/python3.12/site-packages/sklearn/pipeline.py\", line 377, in _fit\n",
      "    X, fitted_transformer = fit_transform_one_cached(\n",
      "                            ^^^^^^^^^^^^^^^^^^^^^^^^^\n",
      "  File \"/Library/Frameworks/Python.framework/Versions/3.12/lib/python3.12/site-packages/joblib/memory.py\", line 353, in __call__\n",
      "    return self.func(*args, **kwargs)\n",
      "           ^^^^^^^^^^^^^^^^^^^^^^^^^^\n",
      "  File \"/Library/Frameworks/Python.framework/Versions/3.12/lib/python3.12/site-packages/sklearn/pipeline.py\", line 957, in _fit_transform_one\n",
      "    res = transformer.fit_transform(X, y, **fit_params)\n",
      "          ^^^^^^^^^^^^^^^^^^^^^^^^^^^^^^^^^^^^^^^^^^^^^\n",
      "  File \"/Library/Frameworks/Python.framework/Versions/3.12/lib/python3.12/site-packages/sklearn/utils/_set_output.py\", line 157, in wrapped\n",
      "    data_to_wrap = f(self, X, *args, **kwargs)\n",
      "                   ^^^^^^^^^^^^^^^^^^^^^^^^^^^\n",
      "  File \"/Library/Frameworks/Python.framework/Versions/3.12/lib/python3.12/site-packages/sklearn/base.py\", line 1152, in wrapper\n",
      "    return fit_method(estimator, *args, **kwargs)\n",
      "           ^^^^^^^^^^^^^^^^^^^^^^^^^^^^^^^^^^^^^^\n",
      "  File \"/Library/Frameworks/Python.framework/Versions/3.12/lib/python3.12/site-packages/sklearn/decomposition/_pca.py\", line 460, in fit_transform\n",
      "    U, S, Vt = self._fit(X)\n",
      "               ^^^^^^^^^^^^\n",
      "  File \"/Library/Frameworks/Python.framework/Versions/3.12/lib/python3.12/site-packages/sklearn/decomposition/_pca.py\", line 510, in _fit\n",
      "    return self._fit_full(X, n_components)\n",
      "           ^^^^^^^^^^^^^^^^^^^^^^^^^^^^^^^\n",
      "  File \"/Library/Frameworks/Python.framework/Versions/3.12/lib/python3.12/site-packages/sklearn/decomposition/_pca.py\", line 524, in _fit_full\n",
      "    raise ValueError(\n",
      "ValueError: n_components=150 must be between 0 and min(n_samples, n_features)=100 with svd_solver='full'\n",
      "\n",
      "  warnings.warn(some_fits_failed_message, FitFailedWarning)\n",
      "/Library/Frameworks/Python.framework/Versions/3.12/lib/python3.12/site-packages/sklearn/model_selection/_search.py:979: UserWarning: One or more of the test scores are non-finite: [0.68190672 0.67377972        nan 0.68038388 0.66818693        nan\n",
      " 0.6814004  0.67428346        nan 0.69460999 0.69410108        nan\n",
      " 0.70578396 0.69511631        nan 0.70274344 0.70273182        nan\n",
      " 0.70578525 0.69105669        nan 0.71288927 0.69919273        nan\n",
      " 0.71492618 0.70426241        nan]\n",
      "  warnings.warn(\n"
     ]
    }
   ],
   "source": [
    "grid_search = GridSearchCV(pipe, param_grid, cv=5)\n",
    "grid_search.fit(X_train, y_train)\n",
    "\n",
    "best_model = grid_search.best_estimator_\n",
    "\n",
    "y_pred = best_model.predict(X_test)\n",
    "\n",
    "accuracy = accuracy_score(y_test, y_pred)\n"
   ]
  },
  {
   "cell_type": "code",
   "execution_count": 24,
   "metadata": {
    "ExecuteTime": {
     "end_time": "2023-11-15T16:59:19.855274Z",
     "start_time": "2023-11-15T16:59:19.359421Z"
    },
    "collapsed": false
   },
   "outputs": [
    {
     "name": "stdout",
     "output_type": "stream",
     "text": [
      "              precision    recall  f1-score   support\n",
      "\n",
      "           0       0.71      0.91      0.80       372\n",
      "           1       0.72      0.64      0.68       180\n",
      "           2       0.88      0.19      0.31        73\n",
      "           3       0.50      0.03      0.06        31\n",
      "\n",
      "    accuracy                           0.71       656\n",
      "   macro avg       0.70      0.44      0.46       656\n",
      "weighted avg       0.72      0.71      0.67       656\n",
      "\n",
      "[[338  31   2   1]\n",
      " [ 65 115   0   0]\n",
      " [ 49  10  14   0]\n",
      " [ 26   4   0   1]]\n"
     ]
    },
    {
     "data": {
      "image/png": "[encoded data removed]",
      "text/plain": [
       "<Figure size 1000x700 with 2 Axes>"
      ]
     },
     "metadata": {},
     "output_type": "display_data"
    },
    {
     "name": "stdout",
     "output_type": "stream",
     "text": [
      "Accuracy on Test Set: 0.71\n",
      "Classification Report for Mono:\n",
      "              precision    recall  f1-score   support\n",
      "\n",
      "           0       0.75      0.93      0.83       147\n",
      "           1       0.78      0.78      0.78        82\n",
      "           2       0.62      0.19      0.29        26\n",
      "           3       0.00      0.00      0.00        18\n",
      "\n",
      "    accuracy                           0.75       273\n",
      "   macro avg       0.54      0.48      0.48       273\n",
      "weighted avg       0.70      0.75      0.71       273\n",
      "\n",
      "Confusion Matrix for Mono:\n",
      "[[137   8   2   0]\n",
      " [ 17  64   1   0]\n",
      " [ 16   5   5   0]\n",
      " [ 13   5   0   0]]\n",
      "Accuracy for Mono: 75.46%\n",
      "\n",
      "Classification Report for Poly:\n",
      "              precision    recall  f1-score   support\n",
      "\n",
      "           0       0.70      0.94      0.80       225\n",
      "           1       0.75      0.49      0.59        98\n",
      "           2       0.77      0.21      0.33        47\n",
      "           3       0.00      0.00      0.00        13\n",
      "\n",
      "    accuracy                           0.70       383\n",
      "   macro avg       0.55      0.41      0.43       383\n",
      "weighted avg       0.69      0.70      0.66       383\n",
      "\n",
      "Confusion Matrix for Poly:\n",
      "[[212  10   2   1]\n",
      " [ 49  48   1   0]\n",
      " [ 33   4  10   0]\n",
      " [ 11   2   0   0]]\n",
      "Accuracy for Poly: 70.50%\n"
     ]
    },
    {
     "name": "stderr",
     "output_type": "stream",
     "text": [
      "/Library/Frameworks/Python.framework/Versions/3.12/lib/python3.12/site-packages/sklearn/metrics/_classification.py:1471: UndefinedMetricWarning: Precision and F-score are ill-defined and being set to 0.0 in labels with no predicted samples. Use `zero_division` parameter to control this behavior.\n",
      "  _warn_prf(average, modifier, msg_start, len(result))\n",
      "/Library/Frameworks/Python.framework/Versions/3.12/lib/python3.12/site-packages/sklearn/metrics/_classification.py:1471: UndefinedMetricWarning: Precision and F-score are ill-defined and being set to 0.0 in labels with no predicted samples. Use `zero_division` parameter to control this behavior.\n",
      "  _warn_prf(average, modifier, msg_start, len(result))\n",
      "/Library/Frameworks/Python.framework/Versions/3.12/lib/python3.12/site-packages/sklearn/metrics/_classification.py:1471: UndefinedMetricWarning: Precision and F-score are ill-defined and being set to 0.0 in labels with no predicted samples. Use `zero_division` parameter to control this behavior.\n",
      "  _warn_prf(average, modifier, msg_start, len(result))\n"
     ]
    }
   ],
   "source": [
    "print(classification_report(y_test, y_pred))\n",
    "print(confusion_matrix(y_test, y_pred))\n",
    "plt.figure(figsize=(10, 7))\n",
    "sns.heatmap(confusion_matrix(y_test, y_pred), cmap='Blues', linecolor='white', annot=True, fmt='d')\n",
    "plt.title('Confusion Matrix')\n",
    "plt.ylabel('True Label')\n",
    "plt.xlabel('Predicted Label')\n",
    "plt.setp(ax.get_xticklabels(), rotation=45, ha=\"right\",\n",
    "         rotation_mode=\"anchor\")\n",
    "plt.show()\n",
    "\n",
    "print(f\"Accuracy on Test Set: {accuracy:.2f}\")\n",
    "\n",
    "print(\"Classification Report for Mono:\")\n",
    "print(classification_report(y_test_mono, y_pred_mono))\n",
    "print(\"Confusion Matrix for Mono:\")\n",
    "print(confusion_matrix(y_test_mono, y_pred_mono))\n",
    "print(\"Accuracy for Mono: {:.2f}%\".format(100 * accuracy_score(y_test_mono, y_pred_mono)))\n",
    "\n",
    "print(\"\\nClassification Report for Poly:\")\n",
    "print(classification_report(y_test_poly, y_pred_poly))\n",
    "print(\"Confusion Matrix for Poly:\")\n",
    "print(confusion_matrix(y_test_poly, y_pred_poly))\n",
    "print(\"Accuracy for Poly: {:.2f}%\".format(100 * accuracy_score(y_test_poly, y_pred_poly)))"
   ]
  }
 ],
 "metadata": {
  "kernelspec": {
   "display_name": "Python 3",
   "language": "python",
   "name": "python3"
  },
  "language_info": {
   "codemirror_mode": {
    "name": "ipython",
    "version": 3
   },
   "file_extension": ".py",
   "mimetype": "text/x-python",
   "name": "python",
   "nbconvert_exporter": "python",
   "pygments_lexer": "ipython3",
   "version": "3.12.0"
  }
 },
 "nbformat": 4,
 "nbformat_minor": 2
}
